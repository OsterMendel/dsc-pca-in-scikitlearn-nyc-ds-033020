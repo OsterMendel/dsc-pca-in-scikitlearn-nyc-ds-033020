{
 "cells": [
  {
   "cell_type": "markdown",
   "metadata": {},
   "source": [
    "# Principal Component Analysis in scikit-learn\n",
    "\n",
    "## Introduction\n",
    "\n",
    "Now that you've seen the curse of dimensionality, it's time to take a look at a dimensionality reduction technique! This will help you overcome the challenges of the curse of dimensionality (amongst other things). Essentially, PCA, or Principal Component Analysis, attempts to capture as much information from the dataset as possible while reducing the overall number of features.\n",
    "\n",
    "## Objectives\n",
    "\n",
    "You will be able to:\n",
    "\n",
    "- Explain at a high level how PCA works \n",
    "- Explain use cases for PCA \n",
    "- Implement PCA using the scikit-learn library \n",
    "- Determine the optimal number of n components when performing PCA by observing the explained variance \n",
    "\n",
    "\n",
    "## Generate some data\n",
    "\n",
    "First, you need some data to perform PCA on. With that, here's a quick dataset you can generate using NumPy:"
   ]
  },
  {
   "cell_type": "code",
   "execution_count": 1,
   "metadata": {},
   "outputs": [],
   "source": [
    "import numpy as np\n",
    "\n",
    "x1 = np.linspace(-10, 10, 100)\n",
    "# A linear relationship, plus a little noise\n",
    "x2 = np.array([xi*2 + np.random.normal(loc=0, scale=0.5) for xi in x1]) \n",
    "\n",
    "X = np.matrix(list(zip(x1, x2)))"
   ]
  },
  {
   "cell_type": "markdown",
   "metadata": {},
   "source": [
    "Let's also generate a quick plot of this simple dataset to further orient ourselves:"
   ]
  },
  {
   "cell_type": "code",
   "execution_count": 2,
   "metadata": {},
   "outputs": [
    {
     "data": {
      "image/png": "[encoded data removed]",
      "text/plain": [
       "<Figure size 432x288 with 1 Axes>"
      ]
     },
     "metadata": {},
     "output_type": "display_data"
    }
   ],
   "source": [
    "import matplotlib.pyplot as plt\n",
    "import seaborn as sns\n",
    "%matplotlib inline\n",
    "\n",
    "sns.set_style('darkgrid')\n",
    "\n",
    "plt.scatter(x1, x2);"
   ]
  },
  {
   "cell_type": "markdown",
   "metadata": {},
   "source": [
    "## PCA with scikit-learn\n",
    "\n",
    "Now onto PCA. First, take a look at how simple it is to implement PCA with scikit-learn:"
   ]
  },
  {
   "cell_type": "code",
   "execution_count": 3,
   "metadata": {},
   "outputs": [],
   "source": [
    "from sklearn.decomposition import PCA\n",
    "\n",
    "pca = PCA()\n",
    "transformed = pca.fit_transform(X)"
   ]
  },
  {
   "cell_type": "code",
   "execution_count": 4,
   "metadata": {},
   "outputs": [
    {
     "data": {
      "text/plain": [
       "array([[-2.20397636e+01,  1.25808777e-01],\n",
       "       [-2.22363911e+01, -1.98936981e-01],\n",
       "       [-2.16648515e+01, -1.38083446e-01],\n",
       "       [-2.10153052e+01, -3.80726479e-02],\n",
       "       [-2.02758675e+01,  1.07061200e-01],\n",
       "       [-1.98426679e+01,  9.84717818e-02],\n",
       "       [-2.04975167e+01, -4.56288752e-01],\n",
       "       [-1.87392743e+01,  2.00257736e-01],\n",
       "       [-1.87189300e+01, -1.55739660e-02],\n",
       "       [-1.77096108e+01,  2.65033145e-01],\n",
       "       [-1.81757376e+01, -1.94993975e-01],\n",
       "       [-1.72091372e+01,  6.41694421e-02],\n",
       "       [-1.72047385e+01, -1.59666507e-01],\n",
       "       [-1.64464614e+01, -5.07578402e-03],\n",
       "       [-1.63571312e+01, -1.86278455e-01],\n",
       "       [-1.55135946e+01,  1.11102807e-02],\n",
       "       [-1.53910217e+01, -1.53405433e-01],\n",
       "       [-1.48613216e+01, -1.13554207e-01],\n",
       "       [-1.39924920e+01,  9.65309145e-02],\n",
       "       [-1.37710827e+01, -1.83715752e-02],\n",
       "       [-1.33805266e+01, -4.83668990e-02],\n",
       "       [-1.24885953e+01,  1.73314655e-01],\n",
       "       [-1.24358996e+01, -2.62775214e-02],\n",
       "       [-1.17976119e+01,  6.80817609e-02],\n",
       "       [-1.14841657e+01, -6.20670803e-04],\n",
       "       [-1.10315263e+01,  5.48157870e-04],\n",
       "       [-1.07627906e+01, -9.05977454e-02],\n",
       "       [-9.48964887e+00,  3.22441198e-01],\n",
       "       [-9.18575233e+00,  2.48945097e-01],\n",
       "       [-8.43748401e+00,  3.98511694e-01],\n",
       "       [-8.09830794e+00,  3.42724970e-01],\n",
       "       [-8.35848774e+00, -1.39222983e-02],\n",
       "       [-7.60432512e+00,  1.38603072e-01],\n",
       "       [-7.90606174e+00, -2.38904601e-01],\n",
       "       [-7.36915119e+00, -1.95433931e-01],\n",
       "       [-7.27194155e+00, -3.72681300e-01],\n",
       "       [-5.75808209e+00,  1.61191478e-01],\n",
       "       [-5.68130130e+00, -2.63106279e-02],\n",
       "       [-5.20985174e+00, -1.56996155e-02],\n",
       "       [-4.63611077e+00,  4.62589381e-02],\n",
       "       [-3.96697937e+00,  1.56100928e-01],\n",
       "       [-3.99830424e+00, -8.56673181e-02],\n",
       "       [-3.63613314e+00, -1.29911151e-01],\n",
       "       [-3.29492004e+00, -1.84675345e-01],\n",
       "       [-2.59818937e+00, -6.09792652e-02],\n",
       "       [-2.29432773e+00, -1.34492882e-01],\n",
       "       [-1.50612777e+00,  3.51183198e-02],\n",
       "       [-9.44334408e-01,  9.10794955e-02],\n",
       "       [-3.44261337e-01,  1.66256056e-01],\n",
       "       [-1.12809428e+00, -4.53251021e-01],\n",
       "       [-6.14906303e-01, -4.21688442e-01],\n",
       "       [ 9.94296045e-01,  1.60043903e-01],\n",
       "       [ 1.49793926e+00,  1.86815265e-01],\n",
       "       [ 2.08480169e+00,  2.55360439e-01],\n",
       "       [ 1.80955453e+00, -1.08850236e-01],\n",
       "       [ 3.14696745e+00,  3.36451114e-01],\n",
       "       [ 3.06734161e+00,  7.04370857e-02],\n",
       "       [ 2.42527182e+00, -4.77908697e-01],\n",
       "       [ 4.25408959e+00,  2.14064688e-01],\n",
       "       [ 4.99020221e+00,  3.57529449e-01],\n",
       "       [ 4.77629185e+00,  2.41081967e-02],\n",
       "       [ 5.68947322e+00,  2.56456712e-01],\n",
       "       [ 5.84092296e+00,  1.06436410e-01],\n",
       "       [ 5.42493889e+00, -3.28420414e-01],\n",
       "       [ 7.13805245e+00,  3.05472566e-01],\n",
       "       [ 6.98802961e+00,  4.12113307e-03],\n",
       "       [ 8.86155285e+00,  7.18535468e-01],\n",
       "       [ 8.49344414e+00,  3.07710787e-01],\n",
       "       [ 8.29046033e+00, -2.02256331e-02],\n",
       "       [ 8.52466330e+00, -1.28706033e-01],\n",
       "       [ 9.31181314e+00,  4.03780406e-02],\n",
       "       [ 9.51577054e+00, -8.32848256e-02],\n",
       "       [ 1.02758537e+01,  7.22125259e-02],\n",
       "       [ 1.03429947e+01, -1.20128536e-01],\n",
       "       [ 1.09296975e+01, -5.16634924e-02],\n",
       "       [ 1.19496849e+01,  2.34298787e-01],\n",
       "       [ 1.23310257e+01,  1.99677649e-01],\n",
       "       [ 1.22434589e+01, -7.03225574e-02],\n",
       "       [ 1.21311689e+01, -3.52733108e-01],\n",
       "       [ 1.33274583e+01,  2.17280500e-02],\n",
       "       [ 1.48133367e+01,  5.41555071e-01],\n",
       "       [ 1.40254771e+01, -7.99732731e-02],\n",
       "       [ 1.46319551e+01, -1.58164229e-03],\n",
       "       [ 1.52024947e+01,  5.87699541e-02],\n",
       "       [ 1.60522340e+01,  2.59272254e-01],\n",
       "       [ 1.53139846e+01, -3.37353131e-01],\n",
       "       [ 1.55832196e+01, -4.28248383e-01],\n",
       "       [ 1.60502282e+01, -4.19866601e-01],\n",
       "       [ 1.64408535e+01, -4.49827209e-01],\n",
       "       [ 1.80349143e+01,  1.24304492e-01],\n",
       "       [ 1.71367226e+01, -5.52607623e-01],\n",
       "       [ 1.91814435e+01,  2.47743333e-01],\n",
       "       [ 1.91847964e+01,  2.33823833e-02],\n",
       "       [ 1.90242834e+01, -2.83234831e-01],\n",
       "       [ 2.05130871e+01,  2.38060632e-01],\n",
       "       [ 2.00868015e+01, -2.01967268e-01],\n",
       "       [ 2.05115732e+01, -2.14787280e-01],\n",
       "       [ 2.09221267e+01, -2.34744452e-01],\n",
       "       [ 2.22491955e+01,  2.05364443e-01],\n",
       "       [ 2.27611497e+01,  2.36307663e-01]])"
      ]
     },
     "execution_count": 4,
     "metadata": {},
     "output_type": "execute_result"
    }
   ],
   "source": [
    "transformed"
   ]
  },
  {
   "cell_type": "markdown",
   "metadata": {},
   "source": [
    "And you can once again plot the updated dataset:"
   ]
  },
  {
   "cell_type": "code",
   "execution_count": 4,
   "metadata": {},
   "outputs": [
    {
     "data": {
      "image/png": "[encoded data removed]",
      "text/plain": [
       "<Figure size 432x288 with 1 Axes>"
      ]
     },
     "metadata": {
      "needs_background": "light"
     },
     "output_type": "display_data"
    }
   ],
   "source": [
    "plt.scatter(transformed[:,0], transformed[:,1]);"
   ]
  },
  {
   "cell_type": "code",
   "execution_count": 6,
   "metadata": {},
   "outputs": [
    {
     "data": {
      "text/plain": [
       "array([[-0.44776085, -0.89415335],\n",
       "       [ 0.89415335, -0.44776085]])"
      ]
     },
     "execution_count": 6,
     "metadata": {},
     "output_type": "execute_result"
    }
   ],
   "source": [
    "pca.components_"
   ]
  },
  {
   "cell_type": "code",
   "execution_count": 7,
   "metadata": {},
   "outputs": [
    {
     "data": {
      "text/plain": [
       "array([7.10542736e-17, 2.43987143e-02])"
      ]
     },
     "execution_count": 7,
     "metadata": {},
     "output_type": "execute_result"
    }
   ],
   "source": [
    "pca.mean_"
   ]
  },
  {
   "cell_type": "markdown",
   "metadata": {},
   "source": [
    "## Interpret Results\n",
    "\n",
    "Let's take a look at what went on here. PCA transforms the dataset along principal axes. The first of these axes is designed to capture the maximum variance within the data. From here, additional axes are constructed which are orthogonal to the previous axes and continue to account for as much of the remaining variance as possible.\n",
    "\n",
    "For the current 2-d case, the axes which the data were projected onto look like this:"
   ]
  },
  {
   "cell_type": "code",
   "execution_count": 8,
   "metadata": {},
   "outputs": [
    {
     "data": {
      "image/png": "[encoded data removed]",
      "text/plain": [
       "<Figure size 432x288 with 1 Axes>"
      ]
     },
     "metadata": {
      "needs_background": "light"
     },
     "output_type": "display_data"
    }
   ],
   "source": [
    "plt.scatter(x1, x2);\n",
    "ax1, ay1 = pca.mean_[0], pca.mean_[1]\n",
    "ax2, ay2 = pca.mean_[0] + pca.components_[0][0], pca.mean_[1] + pca.components_[0][1]\n",
    "ax3, ay3 = pca.mean_[0] + pca.components_[1][0], pca.mean_[1] + pca.components_[1][1]\n",
    "plt.plot([ax1, ax2], [ay1, ay2], color='red')\n",
    "plt.plot([ax2, ax3], [ay2, ay3], color='red');"
   ]
  },
  {
   "cell_type": "markdown",
   "metadata": {},
   "source": [
    "So, the updated graph you saw is the same dataset rotated onto these red axes:"
   ]
  },
  {
   "cell_type": "code",
   "execution_count": 9,
   "metadata": {},
   "outputs": [
    {
     "data": {
      "image/png": "[encoded data removed]",
      "text/plain": [
       "<Figure size 432x288 with 1 Axes>"
      ]
     },
     "metadata": {
      "needs_background": "light"
     },
     "output_type": "display_data"
    }
   ],
   "source": [
    "plt.scatter(transformed[:,0], transformed[:,1])\n",
    "plt.axhline(color='red')\n",
    "plt.axvline(color='red');"
   ]
  },
  {
   "cell_type": "markdown",
   "metadata": {},
   "source": [
    "Note the small scale of the y-axis. You can also plot the transformed dataset on the new axes with a scale similar to what you saw before:"
   ]
  },
  {
   "cell_type": "code",
   "execution_count": 10,
   "metadata": {
    "scrolled": true
   },
   "outputs": [
    {
     "data": {
      "image/png": "[encoded data removed]",
      "text/plain": [
       "<Figure size 432x288 with 1 Axes>"
      ]
     },
     "metadata": {
      "needs_background": "light"
     },
     "output_type": "display_data"
    }
   ],
   "source": [
    "plt.scatter(transformed[:,0], transformed[:,1])\n",
    "plt.axhline(color='red')\n",
    "plt.axvline(color='red')\n",
    "plt.ylim(-10,10);"
   ]
  },
  {
   "cell_type": "markdown",
   "metadata": {},
   "source": [
    "Again, this is the geographical interpretation of what just happened:  \n",
    "\n",
    "<img src=\"images/inhouse_pca.png\">"
   ]
  },
  {
   "cell_type": "markdown",
   "metadata": {},
   "source": [
    "## Determine the Explained Variance\n",
    "\n",
    "Typically, one would use PCA to actually reduce the number of dimensions. In this case, you've simply re-re-parametrized the dataset along new axes. That said, if you look at the first of these primary axes, you can see the patterns encapsulated by the principal component. Moreover, scikit-learn also lets you quickly determine the overall variance in the dataset accounted for in each of the principal components."
   ]
  },
  {
   "cell_type": "code",
   "execution_count": 11,
   "metadata": {},
   "outputs": [
    {
     "data": {
      "text/plain": [
       "array([9.99752507e-01, 2.47492678e-04])"
      ]
     },
     "execution_count": 11,
     "metadata": {},
     "output_type": "execute_result"
    }
   ],
   "source": [
    "pca.explained_variance_ratio_"
   ]
  },
  {
   "cell_type": "markdown",
   "metadata": {},
   "source": [
    "Keep in mind that these quantities are cumulative: principal component 2 attempts to account for the variance not accounted for in the primary component. You can view the total variance using `np.cumsum()`:"
   ]
  },
  {
   "cell_type": "code",
   "execution_count": 12,
   "metadata": {},
   "outputs": [
    {
     "data": {
      "text/plain": [
       "array([0.99975251, 1.        ])"
      ]
     },
     "execution_count": 12,
     "metadata": {},
     "output_type": "execute_result"
    }
   ],
   "source": [
    "np.cumsum(pca.explained_variance_ratio_)"
   ]
  },
  {
   "cell_type": "markdown",
   "metadata": {},
   "source": [
    "## Visualize the Principal Component\n",
    "\n",
    "To help demonstrate the structure captured by the first principal component, observe the impact of coloring the dataset and then visualizing the first component."
   ]
  },
  {
   "cell_type": "code",
   "execution_count": 13,
   "metadata": {},
   "outputs": [
    {
     "data": {
      "image/png": "[encoded data removed]",
      "text/plain": [
       "<Figure size 432x288 with 1 Axes>"
      ]
     },
     "metadata": {
      "needs_background": "light"
     },
     "output_type": "display_data"
    }
   ],
   "source": [
    "plt.scatter(x1,x2, c=sns.color_palette('RdBu', n_colors=100));"
   ]
  },
  {
   "cell_type": "code",
   "execution_count": 14,
   "metadata": {},
   "outputs": [
    {
     "data": {
      "image/png": "[encoded data removed]",
      "text/plain": [
       "<Figure size 432x288 with 1 Axes>"
      ]
     },
     "metadata": {
      "needs_background": "light"
     },
     "output_type": "display_data"
    }
   ],
   "source": [
    "plt.scatter(transformed[:,0], [0 for i in range(100)] , c=sns.color_palette('RdBu', n_colors=100));"
   ]
  },
  {
   "cell_type": "markdown",
   "metadata": {},
   "source": [
    "## Steps for Performing PCA\n",
    "\n",
    "The theory behind PCA rests upon many foundational concepts of linear algebra. After all, PCA is re-encoding a dataset into an alternative basis (the axes). Here are the exact steps:\n",
    "\n",
    "1. Recenter each feature of the dataset by subtracting that feature's mean from the feature vector\n",
    "2. Calculate the covariance matrix for your centered dataset\n",
    "3. Calculate the eigenvectors of the covariance matrix\n",
    "    1. You'll further investigate the concept of eigenvectors in the upcoming lesson\n",
    "4. Project the dataset into the new feature space: Multiply the eigenvectors by the mean-centered features"
   ]
  },
  {
   "cell_type": "markdown",
   "metadata": {},
   "source": [
    "You can see some of these intermediate steps from the `pca` instance object itself. "
   ]
  },
  {
   "cell_type": "code",
   "execution_count": 15,
   "metadata": {},
   "outputs": [
    {
     "data": {
      "text/plain": [
       "array([7.10542736e-17, 2.43987143e-02])"
      ]
     },
     "execution_count": 15,
     "metadata": {},
     "output_type": "execute_result"
    }
   ],
   "source": [
    "# Pulling up the original feature means which were used to center the data\n",
    "pca.mean_ "
   ]
  },
  {
   "cell_type": "code",
   "execution_count": 16,
   "metadata": {},
   "outputs": [
    {
     "data": {
      "text/plain": [
       "array([[ 34.35023637,  68.51088417],\n",
       "       [ 68.51088417, 136.85477154]])"
      ]
     },
     "execution_count": 16,
     "metadata": {},
     "output_type": "execute_result"
    }
   ],
   "source": [
    "# Pulling up the covariance matrix of the mean centered data\n",
    "pca.get_covariance() "
   ]
  },
  {
   "cell_type": "code",
   "execution_count": 17,
   "metadata": {},
   "outputs": [
    {
     "data": {
      "text/plain": [
       "array([[-0.44776085, -0.89415335],\n",
       "       [ 0.89415335, -0.44776085]])"
      ]
     },
     "execution_count": 17,
     "metadata": {},
     "output_type": "execute_result"
    }
   ],
   "source": [
    "# Pulling up the eigenvectors of the covariance matrix\n",
    "pca.components_ "
   ]
  },
  {
   "cell_type": "code",
   "execution_count": 20,
   "metadata": {},
   "outputs": [],
   "source": [
    "eig_values = pca.explained_variance_\n",
    "eig_vectors = pca.components_"
   ]
  },
  {
   "cell_type": "code",
   "execution_count": 22,
   "metadata": {},
   "outputs": [
    {
     "data": {
      "text/plain": [
       "0    -5.858017\n",
       "1   -11.698131\n",
       "dtype: float64"
      ]
     },
     "execution_count": 22,
     "metadata": {},
     "output_type": "execute_result"
    }
   ],
   "source": [
    "import pandas as pd\n",
    "structure_loading_1 = eig_vectors[0]* np.sqrt(eig_values[0])\n",
    "str_loading_1 = pd.Series(structure_loading_1)\n",
    "str_loading_1"
   ]
  },
  {
   "cell_type": "markdown",
   "metadata": {},
   "source": [
    "##  Summary\n",
    "In this lesson, you looked at implementing PCA with scikit-learn and the geometric interpretations of principal components. From here, you'll get a chance to practice implementing PCA yourself before going on to code some of the underlying components implemented by scikit-learn using NumPy."
   ]
  }
 ],
 "metadata": {
  "anaconda-cloud": {},
  "kernelspec": {
   "display_name": "Python 3",
   "language": "python",
   "name": "python3"
  },
  "language_info": {
   "codemirror_mode": {
    "name": "ipython",
    "version": 3
   },
   "file_extension": ".py",
   "mimetype": "text/x-python",
   "name": "python",
   "nbconvert_exporter": "python",
   "pygments_lexer": "ipython3",
   "version": "3.6.9"
  }
 },
 "nbformat": 4,
 "nbformat_minor": 1
}
